{
 "cells": [
  {
   "cell_type": "markdown",
   "id": "5d97bf8d-4e31-4e5b-9abb-60620d77884d",
   "metadata": {},
   "source": [
    "# ALPHABET SOUP PROBLEM\n",
    " Create a function that takes a string and returns a string with its letters\r\n",
    "in alphabetical order.\r"
   ]
  },
  {
   "cell_type": "code",
   "execution_count": 128,
   "id": "841ab35f-7325-45b5-9a0a-665c776b5d64",
   "metadata": {},
   "outputs": [],
   "source": [
    "# Define the function\n",
    "def alphabet_soup(input_word):\n",
    "    # Sort the characters of the string in alphabetical order\n",
    "    sorted_word = ''.join(sorted(input_word))\n",
    "    return sorted_word"
   ]
  },
  {
   "cell_type": "code",
   "execution_count": 130,
   "id": "6bd346fb-e230-47ac-b6ba-79f44b0789b9",
   "metadata": {},
   "outputs": [
    {
     "name": "stdout",
     "output_type": "stream",
     "text": [
      "ehllo\n"
     ]
    }
   ],
   "source": [
    "print(alphabet_soup(\"hello\"))"
   ]
  },
  {
   "cell_type": "code",
   "execution_count": 132,
   "id": "980a947b-9ee5-4c84-b04c-84a5418d1cca",
   "metadata": {},
   "outputs": [
    {
     "name": "stdout",
     "output_type": "stream",
     "text": [
      "acehkr\n"
     ]
    }
   ],
   "source": [
    "print(alphabet_soup(\"hacker\"))"
   ]
  },
  {
   "cell_type": "markdown",
   "id": "e8ba9bc6-b62d-4d9e-92bb-80ac8f8632c2",
   "metadata": {},
   "source": [
    "# EMOTICON PROBLEM\n",
    "Create a function that changes specific words into emoticons. Given a sentence as a string, replace the words smile, grin, sad, and mad with their corresponding emotico.n\r"
   ]
  },
  {
   "cell_type": "code",
   "execution_count": 118,
   "id": "c329d637-1633-4af5-a0eb-5905d69005ee",
   "metadata": {},
   "outputs": [],
   "source": [
    "#define the function\n",
    "def emoticons(sentence):\n",
    "    \n",
    "    #split the sentence into words\n",
    "    words = sentence.split()\n",
    "    \n",
    "    #create a list to hold all the replaced words\n",
    "    replaced_words = []\n",
    "    \n",
    "    #replace words with their corresponding emoticons\n",
    "    for emotion in words:\n",
    "        #check for specific words and replace them\n",
    "        if emotion == 'smile':\n",
    "            replaced_words.append(':)')\n",
    "        elif emotion == 'grin':\n",
    "            replaced_words.append(':D')\n",
    "        elif emotion == 'sad':\n",
    "            replaced_words.append(':((')\n",
    "        elif emotion == 'mad':\n",
    "            replaced_words.append('>:(')\n",
    "        else:\n",
    "            #if a word does not match, keep it unchanged\n",
    "            replaced_words.append(emotion)\n",
    "   \n",
    "    #join the words back into a sentence with spaces\n",
    "    new_sentence = ' '.join(replaced_words)\n",
    "\n",
    "    return new_sentence\n",
    "    "
   ]
  },
  {
   "cell_type": "code",
   "execution_count": 120,
   "id": "4bff457f-919f-417a-8e7e-692a97576967",
   "metadata": {},
   "outputs": [
    {
     "name": "stdout",
     "output_type": "stream",
     "text": [
      "Make me :)\n"
     ]
    }
   ],
   "source": [
    "print(emoticons(\"Make me smile\"))"
   ]
  },
  {
   "cell_type": "code",
   "execution_count": 122,
   "id": "75cae56e-163c-4771-a082-0a20cca7169d",
   "metadata": {},
   "outputs": [
    {
     "name": "stdout",
     "output_type": "stream",
     "text": [
      "I am >:(\n"
     ]
    }
   ],
   "source": [
    "print(emoticons(\"I am mad\"))"
   ]
  },
  {
   "cell_type": "markdown",
   "id": "739693ef-d885-4a22-8087-6dfcfbff6aa9",
   "metadata": {},
   "source": [
    "# UNPACKING LIST PROBLEM \n",
    "Unpack the list writeyourcodehere into three variables, being first, \n",
    "middle, and last  with middle being everything in between the first and last element. Then print all three \r\n",
    "variables.\r"
   ]
  },
  {
   "cell_type": "code",
   "execution_count": 114,
   "id": "8c4a23fa-2491-4627-be41-ed75e449fc8f",
   "metadata": {},
   "outputs": [],
   "source": [
    "#define the list\n",
    "lst = [1,2,3,4,5,6]\n",
    "#unpack the list into three variables\n",
    "lst = first, *middle, last "
   ]
  },
  {
   "cell_type": "code",
   "execution_count": 116,
   "id": "6ed72b37-fd03-401d-b178-ccb38b3b847b",
   "metadata": {},
   "outputs": [
    {
     "name": "stdout",
     "output_type": "stream",
     "text": [
      "First: 1    Middle: [2, 3, 4, 5]    Last: 6\n"
     ]
    }
   ],
   "source": [
    "#print with f-strings and explicit spaces\n",
    "print(f\"First: {first}    Middle: {middle}    Last: {last}\")"
   ]
  }
 ],
 "metadata": {
  "kernelspec": {
   "display_name": "Python 3 (ipykernel)",
   "language": "python",
   "name": "python3"
  },
  "language_info": {
   "codemirror_mode": {
    "name": "ipython",
    "version": 3
   },
   "file_extension": ".py",
   "mimetype": "text/x-python",
   "name": "python",
   "nbconvert_exporter": "python",
   "pygments_lexer": "ipython3",
   "version": "3.12.4"
  }
 },
 "nbformat": 4,
 "nbformat_minor": 5
}
